{
 "cells": [
  {
   "cell_type": "code",
   "execution_count": 1,
   "metadata": {},
   "outputs": [],
   "source": [
    "import sys\n",
    "sys.path.append('..\\\\src')"
   ]
  },
  {
   "cell_type": "markdown",
   "metadata": {},
   "source": [
    "## Py4J or JPype\n",
    "\n",
    "Demonstrate loading and querying data with CoreseAPI connected through `Py4J` or `JPype` packages."
   ]
  },
  {
   "cell_type": "markdown",
   "metadata": {},
   "source": [
    "### Connect to Corese API"
   ]
  },
  {
   "cell_type": "code",
   "execution_count": 2,
   "metadata": {},
   "outputs": [],
   "source": [
    "python_to_java_bridge = 'py4j'"
   ]
  },
  {
   "cell_type": "code",
   "execution_count": 3,
   "metadata": {},
   "outputs": [
    {
     "name": "stderr",
     "output_type": "stream",
     "text": [
      "2024-11-07 15:50:42,084 - INFO - Py4J: Loading CORESE...\n",
      "2024-11-07 15:50:42,704 - INFO - Py4J: CORESE is loaded\n"
     ]
    }
   ],
   "source": [
    "#%%timeit -n 1 -r 1\n",
    "from  pycorese.api import CoreseAPI\n",
    "\n",
    "corese = CoreseAPI(java_bridge=python_to_java_bridge)\n",
    "corese.loadCorese()"
   ]
  },
  {
   "cell_type": "markdown",
   "metadata": {},
   "source": [
    "### High-level API"
   ]
  },
  {
   "cell_type": "markdown",
   "metadata": {},
   "source": [
    "#### Run SELECT query"
   ]
  },
  {
   "cell_type": "code",
   "execution_count": 13,
   "metadata": {},
   "outputs": [
    {
     "data": {
      "text/plain": [
       "(5, 3)"
      ]
     },
     "execution_count": 13,
     "metadata": {},
     "output_type": "execute_result"
    }
   ],
   "source": [
    "import os \n",
    "data_path = os.path.abspath(os.path.join('data', 'beatles.rdf'))\n",
    "\n",
    "query = '''\n",
    "SELECT *\n",
    "WHERE {?s ?p ?o} LIMIT 5'''\n",
    "\n",
    "graph = corese.loadRDF(data_path) \n",
    "results = corese.sparqlSelect(graph, query=query, return_dataframe=True)\n",
    "\n",
    "results.shape"
   ]
  },
  {
   "cell_type": "markdown",
   "metadata": {},
   "source": [
    "#### Load inference rules "
   ]
  },
  {
   "cell_type": "code",
   "execution_count": 14,
   "metadata": {},
   "outputs": [
    {
     "name": "stdout",
     "output_type": "stream",
     "text": [
      "                                     s                           type\n",
      "0  http://example.com/Please_Please_Me       http://example.com/Album\n",
      "1         http://example.com/McCartney       http://example.com/Album\n",
      "2           http://example.com/Imagine       http://example.com/Album\n",
      "3       http://example.com/The_Beatles        http://example.com/Band\n",
      "4       http://example.com/John_Lennon  http://example.com/SoloArtist\n",
      "5    http://example.com/Paul_McCartney  http://example.com/SoloArtist\n",
      "6       http://example.com/Ringo_Starr  http://example.com/SoloArtist\n",
      "7   http://example.com/George_Harrison  http://example.com/SoloArtist\n",
      "8        http://example.com/Love_Me_Do        http://example.com/Song\n",
      "Graph size:  29\n"
     ]
    }
   ],
   "source": [
    "corese.resetRuleEngine(graph)\n",
    "query = \"select * where {?s a ?type} order by ?type\"\n",
    "print(corese.sparqlSelect(graph, query=query))\n",
    "print(\"Graph size: \", graph.graphSize())\n"
   ]
  },
  {
   "cell_type": "markdown",
   "metadata": {},
   "source": [
    "Adding inference rules to the Corese engine should change the results of the query by adding new triples."
   ]
  },
  {
   "cell_type": "code",
   "execution_count": 17,
   "metadata": {},
   "outputs": [
    {
     "name": "stdout",
     "output_type": "stream",
     "text": [
      "Graph size:  33\n"
     ]
    }
   ],
   "source": [
    "corese.loadRuleEngine(graph, profile=corese.RuleEngine.Profile.RDFS)\n",
    "print(\"Graph size: \", graph.graphSize())"
   ]
  },
  {
   "cell_type": "markdown",
   "metadata": {},
   "source": [
    "Let's see what was added."
   ]
  },
  {
   "cell_type": "code",
   "execution_count": 18,
   "metadata": {},
   "outputs": [
    {
     "name": "stdout",
     "output_type": "stream",
     "text": [
      "                                      s                           type\n",
      "0   http://example.com/Please_Please_Me       http://example.com/Album\n",
      "1          http://example.com/McCartney       http://example.com/Album\n",
      "2            http://example.com/Imagine       http://example.com/Album\n",
      "3        http://example.com/The_Beatles        http://example.com/Band\n",
      "4        http://example.com/John_Lennon      http://example.com/Person\n",
      "5     http://example.com/Paul_McCartney      http://example.com/Person\n",
      "6        http://example.com/Ringo_Starr      http://example.com/Person\n",
      "7    http://example.com/George_Harrison      http://example.com/Person\n",
      "8        http://example.com/John_Lennon  http://example.com/SoloArtist\n",
      "9     http://example.com/Paul_McCartney  http://example.com/SoloArtist\n",
      "10       http://example.com/Ringo_Starr  http://example.com/SoloArtist\n",
      "11   http://example.com/George_Harrison  http://example.com/SoloArtist\n",
      "12        http://example.com/Love_Me_Do        http://example.com/Song\n",
      "Graph size:  33\n"
     ]
    }
   ],
   "source": [
    "query = \"select * where {?s a ?type} order by ?type\"\n",
    "print(corese.sparqlSelect(graph, query=query))\n",
    "print(\"Graph size: \", graph.graphSize())"
   ]
  },
  {
   "cell_type": "markdown",
   "metadata": {},
   "source": [
    "The inference was that the solo artist is also a person although it was not explicitly stated in the data."
   ]
  },
  {
   "cell_type": "markdown",
   "metadata": {},
   "source": [
    "#### Run CONSTRUCT query"
   ]
  },
  {
   "cell_type": "code",
   "execution_count": 19,
   "metadata": {},
   "outputs": [
    {
     "name": "stdout",
     "output_type": "stream",
     "text": [
      "<?xml version=\"1.0\"?>\n",
      "<rdf:RDF\n",
      "  xmlns:ex='http://example.com/'\n",
      "  xmlns:rdf='http://www.w3.org/1999/02/22-rdf-syntax-ns#'>\n",
      "\n",
      "  <ex:BandMember rdf:about='http://example.com/Ringo_Starr'>\n",
      "  </ex:BandMember>\n",
      "\n",
      "  <ex:BandMember rdf:about='http://example.com/John_Lennon'>\n",
      "  </ex:BandMember>\n",
      "\n",
      "  <ex:BandMember rdf:about='http://example.com/George_Harrison'>\n",
      "  </ex:BandMember>\n",
      "\n",
      "  <ex:BandMember rdf:about='http://example.com/Paul_McCartney'>\n",
      "  </ex:BandMember>\n",
      "\n",
      "</rdf:RDF>\n"
     ]
    }
   ],
   "source": [
    "prefixes = '@prefix ex: <http://example.com/>'\n",
    "contruct = '''CONSTRUCT {?Beatle a ex:BandMember }\n",
    "              WHERE { ex:The_Beatles ex:member ?Beatle}'''\n",
    "\n",
    "results = corese.sparqlConstruct(graph, prefixes=prefixes, query=contruct)\n",
    "\n",
    "print(results)"
   ]
  },
  {
   "cell_type": "markdown",
   "metadata": {},
   "source": [
    "By default, the CONSTRUCT query returns the RDF/XML format. For more concise format convert the results to Turtle."
   ]
  },
  {
   "cell_type": "code",
   "execution_count": 20,
   "metadata": {},
   "outputs": [
    {
     "name": "stdout",
     "output_type": "stream",
     "text": [
      "\n",
      "<http://example.com/George_Harrison> a <http://example.com/BandMember> .\n",
      "\n",
      "<http://example.com/John_Lennon> a <http://example.com/BandMember> .\n",
      "\n",
      "<http://example.com/Paul_McCartney> a <http://example.com/BandMember> .\n",
      "\n",
      "<http://example.com/Ringo_Starr> a <http://example.com/BandMember> .\n",
      "\n",
      "\n"
     ]
    }
   ],
   "source": [
    "ttl = corese.toTurtle(results)\n",
    "\n",
    "print(ttl)"
   ]
  },
  {
   "cell_type": "markdown",
   "metadata": {},
   "source": [
    "## Low-level API"
   ]
  },
  {
   "cell_type": "markdown",
   "metadata": {},
   "source": [
    "Adding triples manually to the graph."
   ]
  },
  {
   "cell_type": "code",
   "execution_count": 21,
   "metadata": {},
   "outputs": [
    {
     "name": "stdout",
     "output_type": "stream",
     "text": [
      "01 ?s = <http://example.com/Please_Please_Me>; ?type = <http://example.com/Album>; \n",
      "02 ?s = <http://example.com/McCartney>; ?type = <http://example.com/Album>; \n",
      "03 ?s = <http://example.com/Imagine>; ?type = <http://example.com/Album>; \n",
      "04 ?s = <http://example.com/Help>; ?type = <http://example.com/Album>; \n",
      "\n"
     ]
    }
   ],
   "source": [
    "# Namespace\n",
    "ex = \"http://example.com/\"\n",
    "\n",
    "# Get the graph from either Graph or DataManager objects\n",
    "graph = graph.getGraph() \n",
    "\n",
    "# Create and add statement: Edith Piaf is an Singer\n",
    "new_album_IRI = graph.addResource(ex + \"Help\")\n",
    "rdf_Type_Property = graph.addProperty(corese.Namespaces.RDF + 'type')\n",
    "album_type_IRI = graph.addResource(ex + \"Album\")\n",
    "\n",
    "graph.addEdge(new_album_IRI, rdf_Type_Property, album_type_IRI)\n",
    "\n",
    "query = f'''@prefix ex: <{ex}>\n",
    "            select * \n",
    "            where {{?s a ?type filter (?type = ex:Album) }} \n",
    "            order by ?type'''\n",
    "\n",
    "exec = corese.QueryProcess.create(graph)\n",
    "\n",
    "results = exec.query(query)\n",
    "\n",
    "print(results)\n"
   ]
  }
 ],
 "metadata": {
  "kernelspec": {
   "display_name": "Python 3 (ipykernel)",
   "language": "python",
   "name": "python3"
  },
  "language_info": {
   "codemirror_mode": {
    "name": "ipython",
    "version": 3
   },
   "file_extension": ".py",
   "mimetype": "text/x-python",
   "name": "python",
   "nbconvert_exporter": "python",
   "pygments_lexer": "ipython3",
   "version": "3.13.0"
  }
 },
 "nbformat": 4,
 "nbformat_minor": 4
}
