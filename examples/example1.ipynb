{
 "cells": [
  {
   "cell_type": "markdown",
   "metadata": {
    "id": "view-in-github"
   },
   "source": [
    "<a href=\"https://colab.research.google.com/github/Wimmics/PyCorese/blob/development/examples/example1.ipynb\" target=\"_parent\"><img src=\"https://colab.research.google.com/assets/colab-badge.svg\" alt=\"Open In Colab\"/></a>"
   ]
  },
  {
   "cell_type": "markdown",
   "metadata": {
    "id": "oCetcC1MQz13"
   },
   "source": [
    "# Using pycorese\n",
    "\n",
    "This notebook demonstrates how to use the **pycorese** package:\n",
    "\n",
    "- to load knowledge graph\n",
    "- to perform a SPARQL query\n",
    "- to validate a SHACL form\n",
    "- to access the classes of Corese Java API"
   ]
  },
  {
   "cell_type": "markdown",
   "metadata": {
    "id": "tZjvQGgGe64i"
   },
   "source": [
    "## Install pycorese"
   ]
  },
  {
   "cell_type": "markdown",
   "metadata": {
    "id": "nFeJr1PbQz18"
   },
   "source": [
    "Java Runtime Environment (JRE) 11 or higher is required to run **pycorese**.\n",
    "\n",
    "If you don't have Java installed please refer to the [official website](https://www.java.com/en/download/help/download_options.html) to download and install it."
   ]
  },
  {
   "cell_type": "code",
   "execution_count": 1,
   "metadata": {
    "colab": {
     "base_uri": "https://localhost:8080/"
    },
    "id": "IKx255qaQz1_",
    "outputId": "29b40851-6439-459b-c5f5-1e8cb89f7e84"
   },
   "outputs": [
    {
     "name": "stdout",
     "output_type": "stream",
     "text": [
      "openjdk version \"11.0.25\" 2024-10-15\n",
      "OpenJDK Runtime Environment (build 11.0.25+9-post-Ubuntu-1ubuntu122.04)\n",
      "OpenJDK 64-Bit Server VM (build 11.0.25+9-post-Ubuntu-1ubuntu122.04, mixed mode, sharing)\n"
     ]
    }
   ],
   "source": [
    "!java -version"
   ]
  },
  {
   "cell_type": "markdown",
   "metadata": {
    "id": "QzKUfvL8Qz2G"
   },
   "source": [
    "**pycorese** is available on PyPI and can be installed using pip:"
   ]
  },
  {
   "cell_type": "code",
   "execution_count": 2,
   "metadata": {
    "colab": {
     "base_uri": "https://localhost:8080/"
    },
    "id": "OdY7kuBeQz2I",
    "outputId": "f0deca77-241c-4c58-970c-2906bcbc4078"
   },
   "outputs": [
    {
     "name": "stdout",
     "output_type": "stream",
     "text": [
      "Collecting pycorese\n",
      "  Downloading pycorese-1.0.1-py3-none-any.whl.metadata (32 kB)\n",
      "Requirement already satisfied: py4j>=0.10.9.7 in /usr/local/lib/python3.10/dist-packages (from pycorese) (0.10.9.7)\n",
      "Collecting jpype1>=1.5.0 (from pycorese)\n",
      "  Downloading jpype1-1.5.1-cp310-cp310-manylinux_2_17_x86_64.manylinux2014_x86_64.whl.metadata (4.9 kB)\n",
      "Requirement already satisfied: pandas>=1.3.3 in /usr/local/lib/python3.10/dist-packages (from pycorese) (2.2.2)\n",
      "Requirement already satisfied: packaging in /usr/local/lib/python3.10/dist-packages (from jpype1>=1.5.0->pycorese) (24.2)\n",
      "Requirement already satisfied: numpy>=1.22.4 in /usr/local/lib/python3.10/dist-packages (from pandas>=1.3.3->pycorese) (1.26.4)\n",
      "Requirement already satisfied: python-dateutil>=2.8.2 in /usr/local/lib/python3.10/dist-packages (from pandas>=1.3.3->pycorese) (2.8.2)\n",
      "Requirement already satisfied: pytz>=2020.1 in /usr/local/lib/python3.10/dist-packages (from pandas>=1.3.3->pycorese) (2024.2)\n",
      "Requirement already satisfied: tzdata>=2022.7 in /usr/local/lib/python3.10/dist-packages (from pandas>=1.3.3->pycorese) (2024.2)\n",
      "Requirement already satisfied: six>=1.5 in /usr/local/lib/python3.10/dist-packages (from python-dateutil>=2.8.2->pandas>=1.3.3->pycorese) (1.16.0)\n",
      "Downloading pycorese-1.0.1-py3-none-any.whl (95.3 MB)\n",
      "\u001b[2K   \u001b[90m━━━━━━━━━━━━━━━━━━━━━━━━━━━━━━━━━━━━━━━━\u001b[0m \u001b[32m95.3/95.3 MB\u001b[0m \u001b[31m8.4 MB/s\u001b[0m eta \u001b[36m0:00:00\u001b[0m\n",
      "\u001b[?25hDownloading jpype1-1.5.1-cp310-cp310-manylinux_2_17_x86_64.manylinux2014_x86_64.whl (493 kB)\n",
      "\u001b[2K   \u001b[90m━━━━━━━━━━━━━━━━━━━━━━━━━━━━━━━━━━━━━━━━\u001b[0m \u001b[32m493.8/493.8 kB\u001b[0m \u001b[31m29.1 MB/s\u001b[0m eta \u001b[36m0:00:00\u001b[0m\n",
      "\u001b[?25hInstalling collected packages: jpype1, pycorese\n",
      "Successfully installed jpype1-1.5.1 pycorese-1.0.1\n"
     ]
    }
   ],
   "source": [
    "!pip install pycorese"
   ]
  },
  {
   "cell_type": "code",
   "execution_count": null,
   "metadata": {
    "id": "aKYekc7UQz2K"
   },
   "outputs": [],
   "source": [
    "# delete\n",
    "import sys\n",
    "if 'google.colab' in sys.modules:\n",
    "  !pip install git+https://github.com/corese-stack/corese-python.git@develop\n",
    "else:\n",
    "  sys.path.append('..\\\\src')"
   ]
  },
  {
   "cell_type": "markdown",
   "metadata": {
    "id": "pRlL21fgQz2M"
   },
   "source": [
    "Download the data files from the GitHub repository:\n"
   ]
  },
  {
   "cell_type": "code",
   "execution_count": null,
   "metadata": {
    "colab": {
     "base_uri": "https://localhost:8080/"
    },
    "id": "kOvrNs-ze64n",
    "outputId": "731259ca-8854-4497-fadc-aca4b4ec3714"
   },
   "outputs": [
    {
     "name": "stdout",
     "output_type": "stream",
     "text": [
      "beatles.rdf  beatles-validator.ttl\n"
     ]
    }
   ],
   "source": [
    "# change the links to example production\n",
    "import os\n",
    "import sys\n",
    "if  not os.path.exists('./data/beatles.rdf'):\n",
    "    print('Downloading the data files...')\n",
    "    !mkdir -p ./data\n",
    "    !wget https://raw.githubusercontent.com/corese-stack/corese-python/main/examples/data/beatles.rdf -O ./data/beatles.rdf\n",
    "    !wget https://raw.githubusercontent.com/corese-stack/corese-python/main/examples/data/beatles-validator.ttl -O ./data/beatles-validator.ttl\n",
    "\n",
    "if sys.platform == 'win32':\n",
    "    !dir /b .\\data\\*.*\n",
    "else:\n",
    "    !ls ./data"
   ]
  },
  {
   "cell_type": "markdown",
   "metadata": {
    "id": "PLBixnURe64o"
   },
   "source": [
    "### Connect to Corese API\n",
    "\n",
    "Demonstrate loading and querying data with CoreseAPI connected through `Py4J` or `JPype` packages.  If you don't specify the java bridge type, the default is `Py4J`."
   ]
  },
  {
   "cell_type": "code",
   "execution_count": 5,
   "metadata": {
    "id": "wN4TDhjXe64p"
   },
   "outputs": [],
   "source": [
    "#%%timeit -n 1 -r 1\n",
    "from  pycorese.api import CoreseAPI\n",
    "\n",
    "python_to_java_bridge = 'py4j'\n",
    "corese = CoreseAPI(java_bridge=python_to_java_bridge)\n",
    "corese.loadCorese()"
   ]
  },
  {
   "cell_type": "markdown",
   "metadata": {
    "id": "7WzP7gCle64p"
   },
   "source": [
    "### High-level API"
   ]
  },
  {
   "cell_type": "markdown",
   "metadata": {
    "id": "1hHYhnIve64p"
   },
   "source": [
    "#### Run SELECT query"
   ]
  },
  {
   "cell_type": "code",
   "execution_count": 6,
   "metadata": {
    "colab": {
     "base_uri": "https://localhost:8080/",
     "height": 206
    },
    "id": "KiVYUBGhe64p",
    "outputId": "786d7754-23a2-4ba6-800d-e36bd199adc7"
   },
   "outputs": [
    {
     "data": {
      "application/vnd.google.colaboratory.intrinsic+json": {
       "summary": "{\n  \"name\": \"results\",\n  \"rows\": 5,\n  \"fields\": [\n    {\n      \"column\": \"subject\",\n      \"properties\": {\n        \"dtype\": \"string\",\n        \"num_unique_values\": 3,\n        \"samples\": [\n          \"http://example.com/Please_Please_Me\",\n          \"http://example.com/McCartney\",\n          \"http://example.com/Imagine\"\n        ],\n        \"semantic_type\": \"\",\n        \"description\": \"\"\n      }\n    },\n    {\n      \"column\": \"p\",\n      \"properties\": {\n        \"dtype\": \"string\",\n        \"num_unique_values\": 2,\n        \"samples\": [\n          \"http://example.com/date\",\n          \"http://example.com/artist\"\n        ],\n        \"semantic_type\": \"\",\n        \"description\": \"\"\n      }\n    },\n    {\n      \"column\": \"o\",\n      \"properties\": {\n        \"dtype\": \"string\",\n        \"num_unique_values\": 5,\n        \"samples\": [\n          \"http://example.com/Paul_McCartney\",\n          \"1970-04-17\"\n        ],\n        \"semantic_type\": \"\",\n        \"description\": \"\"\n      }\n    }\n  ]\n}",
       "type": "dataframe",
       "variable_name": "results"
      },
      "text/html": [
       "\n",
       "  <div id=\"df-391a9389-9662-4f26-be4e-5de1f03397c4\" class=\"colab-df-container\">\n",
       "    <div>\n",
       "<style scoped>\n",
       "    .dataframe tbody tr th:only-of-type {\n",
       "        vertical-align: middle;\n",
       "    }\n",
       "\n",
       "    .dataframe tbody tr th {\n",
       "        vertical-align: top;\n",
       "    }\n",
       "\n",
       "    .dataframe thead th {\n",
       "        text-align: right;\n",
       "    }\n",
       "</style>\n",
       "<table border=\"1\" class=\"dataframe\">\n",
       "  <thead>\n",
       "    <tr style=\"text-align: right;\">\n",
       "      <th></th>\n",
       "      <th>subject</th>\n",
       "      <th>p</th>\n",
       "      <th>o</th>\n",
       "    </tr>\n",
       "  </thead>\n",
       "  <tbody>\n",
       "    <tr>\n",
       "      <th>0</th>\n",
       "      <td>http://example.com/Please_Please_Me</td>\n",
       "      <td>http://example.com/artist</td>\n",
       "      <td>http://example.com/The_Beatles</td>\n",
       "    </tr>\n",
       "    <tr>\n",
       "      <th>1</th>\n",
       "      <td>http://example.com/McCartney</td>\n",
       "      <td>http://example.com/artist</td>\n",
       "      <td>http://example.com/Paul_McCartney</td>\n",
       "    </tr>\n",
       "    <tr>\n",
       "      <th>2</th>\n",
       "      <td>http://example.com/Imagine</td>\n",
       "      <td>http://example.com/artist</td>\n",
       "      <td>http://example.com/John_Lennon</td>\n",
       "    </tr>\n",
       "    <tr>\n",
       "      <th>3</th>\n",
       "      <td>http://example.com/Please_Please_Me</td>\n",
       "      <td>http://example.com/date</td>\n",
       "      <td>1963-03-22</td>\n",
       "    </tr>\n",
       "    <tr>\n",
       "      <th>4</th>\n",
       "      <td>http://example.com/McCartney</td>\n",
       "      <td>http://example.com/date</td>\n",
       "      <td>1970-04-17</td>\n",
       "    </tr>\n",
       "  </tbody>\n",
       "</table>\n",
       "</div>\n",
       "    <div class=\"colab-df-buttons\">\n",
       "\n",
       "  <div class=\"colab-df-container\">\n",
       "    <button class=\"colab-df-convert\" onclick=\"convertToInteractive('df-391a9389-9662-4f26-be4e-5de1f03397c4')\"\n",
       "            title=\"Convert this dataframe to an interactive table.\"\n",
       "            style=\"display:none;\">\n",
       "\n",
       "  <svg xmlns=\"http://www.w3.org/2000/svg\" height=\"24px\" viewBox=\"0 -960 960 960\">\n",
       "    <path d=\"M120-120v-720h720v720H120Zm60-500h600v-160H180v160Zm220 220h160v-160H400v160Zm0 220h160v-160H400v160ZM180-400h160v-160H180v160Zm440 0h160v-160H620v160ZM180-180h160v-160H180v160Zm440 0h160v-160H620v160Z\"/>\n",
       "  </svg>\n",
       "    </button>\n",
       "\n",
       "  <style>\n",
       "    .colab-df-container {\n",
       "      display:flex;\n",
       "      gap: 12px;\n",
       "    }\n",
       "\n",
       "    .colab-df-convert {\n",
       "      background-color: #E8F0FE;\n",
       "      border: none;\n",
       "      border-radius: 50%;\n",
       "      cursor: pointer;\n",
       "      display: none;\n",
       "      fill: #1967D2;\n",
       "      height: 32px;\n",
       "      padding: 0 0 0 0;\n",
       "      width: 32px;\n",
       "    }\n",
       "\n",
       "    .colab-df-convert:hover {\n",
       "      background-color: #E2EBFA;\n",
       "      box-shadow: 0px 1px 2px rgba(60, 64, 67, 0.3), 0px 1px 3px 1px rgba(60, 64, 67, 0.15);\n",
       "      fill: #174EA6;\n",
       "    }\n",
       "\n",
       "    .colab-df-buttons div {\n",
       "      margin-bottom: 4px;\n",
       "    }\n",
       "\n",
       "    [theme=dark] .colab-df-convert {\n",
       "      background-color: #3B4455;\n",
       "      fill: #D2E3FC;\n",
       "    }\n",
       "\n",
       "    [theme=dark] .colab-df-convert:hover {\n",
       "      background-color: #434B5C;\n",
       "      box-shadow: 0px 1px 3px 1px rgba(0, 0, 0, 0.15);\n",
       "      filter: drop-shadow(0px 1px 2px rgba(0, 0, 0, 0.3));\n",
       "      fill: #FFFFFF;\n",
       "    }\n",
       "  </style>\n",
       "\n",
       "    <script>\n",
       "      const buttonEl =\n",
       "        document.querySelector('#df-391a9389-9662-4f26-be4e-5de1f03397c4 button.colab-df-convert');\n",
       "      buttonEl.style.display =\n",
       "        google.colab.kernel.accessAllowed ? 'block' : 'none';\n",
       "\n",
       "      async function convertToInteractive(key) {\n",
       "        const element = document.querySelector('#df-391a9389-9662-4f26-be4e-5de1f03397c4');\n",
       "        const dataTable =\n",
       "          await google.colab.kernel.invokeFunction('convertToInteractive',\n",
       "                                                    [key], {});\n",
       "        if (!dataTable) return;\n",
       "\n",
       "        const docLinkHtml = 'Like what you see? Visit the ' +\n",
       "          '<a target=\"_blank\" href=https://colab.research.google.com/notebooks/data_table.ipynb>data table notebook</a>'\n",
       "          + ' to learn more about interactive tables.';\n",
       "        element.innerHTML = '';\n",
       "        dataTable['output_type'] = 'display_data';\n",
       "        await google.colab.output.renderOutput(dataTable, element);\n",
       "        const docLink = document.createElement('div');\n",
       "        docLink.innerHTML = docLinkHtml;\n",
       "        element.appendChild(docLink);\n",
       "      }\n",
       "    </script>\n",
       "  </div>\n",
       "\n",
       "\n",
       "<div id=\"df-9821f6ea-fe6a-4ed9-8438-58ea5139893a\">\n",
       "  <button class=\"colab-df-quickchart\" onclick=\"quickchart('df-9821f6ea-fe6a-4ed9-8438-58ea5139893a')\"\n",
       "            title=\"Suggest charts\"\n",
       "            style=\"display:none;\">\n",
       "\n",
       "<svg xmlns=\"http://www.w3.org/2000/svg\" height=\"24px\"viewBox=\"0 0 24 24\"\n",
       "     width=\"24px\">\n",
       "    <g>\n",
       "        <path d=\"M19 3H5c-1.1 0-2 .9-2 2v14c0 1.1.9 2 2 2h14c1.1 0 2-.9 2-2V5c0-1.1-.9-2-2-2zM9 17H7v-7h2v7zm4 0h-2V7h2v10zm4 0h-2v-4h2v4z\"/>\n",
       "    </g>\n",
       "</svg>\n",
       "  </button>\n",
       "\n",
       "<style>\n",
       "  .colab-df-quickchart {\n",
       "      --bg-color: #E8F0FE;\n",
       "      --fill-color: #1967D2;\n",
       "      --hover-bg-color: #E2EBFA;\n",
       "      --hover-fill-color: #174EA6;\n",
       "      --disabled-fill-color: #AAA;\n",
       "      --disabled-bg-color: #DDD;\n",
       "  }\n",
       "\n",
       "  [theme=dark] .colab-df-quickchart {\n",
       "      --bg-color: #3B4455;\n",
       "      --fill-color: #D2E3FC;\n",
       "      --hover-bg-color: #434B5C;\n",
       "      --hover-fill-color: #FFFFFF;\n",
       "      --disabled-bg-color: #3B4455;\n",
       "      --disabled-fill-color: #666;\n",
       "  }\n",
       "\n",
       "  .colab-df-quickchart {\n",
       "    background-color: var(--bg-color);\n",
       "    border: none;\n",
       "    border-radius: 50%;\n",
       "    cursor: pointer;\n",
       "    display: none;\n",
       "    fill: var(--fill-color);\n",
       "    height: 32px;\n",
       "    padding: 0;\n",
       "    width: 32px;\n",
       "  }\n",
       "\n",
       "  .colab-df-quickchart:hover {\n",
       "    background-color: var(--hover-bg-color);\n",
       "    box-shadow: 0 1px 2px rgba(60, 64, 67, 0.3), 0 1px 3px 1px rgba(60, 64, 67, 0.15);\n",
       "    fill: var(--button-hover-fill-color);\n",
       "  }\n",
       "\n",
       "  .colab-df-quickchart-complete:disabled,\n",
       "  .colab-df-quickchart-complete:disabled:hover {\n",
       "    background-color: var(--disabled-bg-color);\n",
       "    fill: var(--disabled-fill-color);\n",
       "    box-shadow: none;\n",
       "  }\n",
       "\n",
       "  .colab-df-spinner {\n",
       "    border: 2px solid var(--fill-color);\n",
       "    border-color: transparent;\n",
       "    border-bottom-color: var(--fill-color);\n",
       "    animation:\n",
       "      spin 1s steps(1) infinite;\n",
       "  }\n",
       "\n",
       "  @keyframes spin {\n",
       "    0% {\n",
       "      border-color: transparent;\n",
       "      border-bottom-color: var(--fill-color);\n",
       "      border-left-color: var(--fill-color);\n",
       "    }\n",
       "    20% {\n",
       "      border-color: transparent;\n",
       "      border-left-color: var(--fill-color);\n",
       "      border-top-color: var(--fill-color);\n",
       "    }\n",
       "    30% {\n",
       "      border-color: transparent;\n",
       "      border-left-color: var(--fill-color);\n",
       "      border-top-color: var(--fill-color);\n",
       "      border-right-color: var(--fill-color);\n",
       "    }\n",
       "    40% {\n",
       "      border-color: transparent;\n",
       "      border-right-color: var(--fill-color);\n",
       "      border-top-color: var(--fill-color);\n",
       "    }\n",
       "    60% {\n",
       "      border-color: transparent;\n",
       "      border-right-color: var(--fill-color);\n",
       "    }\n",
       "    80% {\n",
       "      border-color: transparent;\n",
       "      border-right-color: var(--fill-color);\n",
       "      border-bottom-color: var(--fill-color);\n",
       "    }\n",
       "    90% {\n",
       "      border-color: transparent;\n",
       "      border-bottom-color: var(--fill-color);\n",
       "    }\n",
       "  }\n",
       "</style>\n",
       "\n",
       "  <script>\n",
       "    async function quickchart(key) {\n",
       "      const quickchartButtonEl =\n",
       "        document.querySelector('#' + key + ' button');\n",
       "      quickchartButtonEl.disabled = true;  // To prevent multiple clicks.\n",
       "      quickchartButtonEl.classList.add('colab-df-spinner');\n",
       "      try {\n",
       "        const charts = await google.colab.kernel.invokeFunction(\n",
       "            'suggestCharts', [key], {});\n",
       "      } catch (error) {\n",
       "        console.error('Error during call to suggestCharts:', error);\n",
       "      }\n",
       "      quickchartButtonEl.classList.remove('colab-df-spinner');\n",
       "      quickchartButtonEl.classList.add('colab-df-quickchart-complete');\n",
       "    }\n",
       "    (() => {\n",
       "      let quickchartButtonEl =\n",
       "        document.querySelector('#df-9821f6ea-fe6a-4ed9-8438-58ea5139893a button');\n",
       "      quickchartButtonEl.style.display =\n",
       "        google.colab.kernel.accessAllowed ? 'block' : 'none';\n",
       "    })();\n",
       "  </script>\n",
       "</div>\n",
       "\n",
       "  <div id=\"id_87ede403-8485-4501-b876-f91b9cc7f820\">\n",
       "    <style>\n",
       "      .colab-df-generate {\n",
       "        background-color: #E8F0FE;\n",
       "        border: none;\n",
       "        border-radius: 50%;\n",
       "        cursor: pointer;\n",
       "        display: none;\n",
       "        fill: #1967D2;\n",
       "        height: 32px;\n",
       "        padding: 0 0 0 0;\n",
       "        width: 32px;\n",
       "      }\n",
       "\n",
       "      .colab-df-generate:hover {\n",
       "        background-color: #E2EBFA;\n",
       "        box-shadow: 0px 1px 2px rgba(60, 64, 67, 0.3), 0px 1px 3px 1px rgba(60, 64, 67, 0.15);\n",
       "        fill: #174EA6;\n",
       "      }\n",
       "\n",
       "      [theme=dark] .colab-df-generate {\n",
       "        background-color: #3B4455;\n",
       "        fill: #D2E3FC;\n",
       "      }\n",
       "\n",
       "      [theme=dark] .colab-df-generate:hover {\n",
       "        background-color: #434B5C;\n",
       "        box-shadow: 0px 1px 3px 1px rgba(0, 0, 0, 0.15);\n",
       "        filter: drop-shadow(0px 1px 2px rgba(0, 0, 0, 0.3));\n",
       "        fill: #FFFFFF;\n",
       "      }\n",
       "    </style>\n",
       "    <button class=\"colab-df-generate\" onclick=\"generateWithVariable('results')\"\n",
       "            title=\"Generate code using this dataframe.\"\n",
       "            style=\"display:none;\">\n",
       "\n",
       "  <svg xmlns=\"http://www.w3.org/2000/svg\" height=\"24px\"viewBox=\"0 0 24 24\"\n",
       "       width=\"24px\">\n",
       "    <path d=\"M7,19H8.4L18.45,9,17,7.55,7,17.6ZM5,21V16.75L18.45,3.32a2,2,0,0,1,2.83,0l1.4,1.43a1.91,1.91,0,0,1,.58,1.4,1.91,1.91,0,0,1-.58,1.4L9.25,21ZM18.45,9,17,7.55Zm-12,3A5.31,5.31,0,0,0,4.9,8.1,5.31,5.31,0,0,0,1,6.5,5.31,5.31,0,0,0,4.9,4.9,5.31,5.31,0,0,0,6.5,1,5.31,5.31,0,0,0,8.1,4.9,5.31,5.31,0,0,0,12,6.5,5.46,5.46,0,0,0,6.5,12Z\"/>\n",
       "  </svg>\n",
       "    </button>\n",
       "    <script>\n",
       "      (() => {\n",
       "      const buttonEl =\n",
       "        document.querySelector('#id_87ede403-8485-4501-b876-f91b9cc7f820 button.colab-df-generate');\n",
       "      buttonEl.style.display =\n",
       "        google.colab.kernel.accessAllowed ? 'block' : 'none';\n",
       "\n",
       "      buttonEl.onclick = () => {\n",
       "        google.colab.notebook.generateWithVariable('results');\n",
       "      }\n",
       "      })();\n",
       "    </script>\n",
       "  </div>\n",
       "\n",
       "    </div>\n",
       "  </div>\n"
      ],
      "text/plain": [
       "                               subject                          p  \\\n",
       "0  http://example.com/Please_Please_Me  http://example.com/artist   \n",
       "1         http://example.com/McCartney  http://example.com/artist   \n",
       "2           http://example.com/Imagine  http://example.com/artist   \n",
       "3  http://example.com/Please_Please_Me    http://example.com/date   \n",
       "4         http://example.com/McCartney    http://example.com/date   \n",
       "\n",
       "                                   o  \n",
       "0     http://example.com/The_Beatles  \n",
       "1  http://example.com/Paul_McCartney  \n",
       "2     http://example.com/John_Lennon  \n",
       "3                         1963-03-22  \n",
       "4                         1970-04-17  "
      ]
     },
     "execution_count": 6,
     "metadata": {},
     "output_type": "execute_result"
    }
   ],
   "source": [
    "import os\n",
    "data_path = os.path.abspath('./data/beatles.rdf')\n",
    "\n",
    "query = '''\n",
    "SELECT *\n",
    "WHERE {?subject ?p ?o} LIMIT 5'''\n",
    "\n",
    "graph = corese.loadRDF(data_path)\n",
    "results = corese.sparqlSelect(graph, query=query, return_dataframe=True)\n",
    "\n",
    "results"
   ]
  },
  {
   "cell_type": "markdown",
   "metadata": {
    "id": "7iohNvoue64q"
   },
   "source": [
    "#### Load inference rules"
   ]
  },
  {
   "cell_type": "code",
   "execution_count": null,
   "metadata": {
    "colab": {
     "base_uri": "https://localhost:8080/"
    },
    "id": "0kzC2BXSe64q",
    "outputId": "67cdc27e-20b1-45ca-b045-a981abc2a6b5"
   },
   "outputs": [
    {
     "name": "stdout",
     "output_type": "stream",
     "text": [
      "                                     s                           type\n",
      "0  http://example.com/Please_Please_Me       http://example.com/Album\n",
      "1         http://example.com/McCartney       http://example.com/Album\n",
      "2           http://example.com/Imagine       http://example.com/Album\n",
      "3       http://example.com/The_Beatles        http://example.com/Band\n",
      "4       http://example.com/John_Lennon  http://example.com/SoloArtist\n",
      "5    http://example.com/Paul_McCartney  http://example.com/SoloArtist\n",
      "6       http://example.com/Ringo_Starr  http://example.com/SoloArtist\n",
      "7   http://example.com/George_Harrison  http://example.com/SoloArtist\n",
      "8        http://example.com/Love_Me_Do        http://example.com/Song\n",
      "Graph size:  29\n"
     ]
    }
   ],
   "source": [
    "corese.resetRuleEngine(graph)\n",
    "query = \"select * where {?s a ?type} order by ?type\"\n",
    "print(corese.sparqlSelect(graph, query=query))\n",
    "print(\"Graph size: \", graph.graphSize())\n"
   ]
  },
  {
   "cell_type": "markdown",
   "metadata": {
    "id": "SbSrRfsWe64q"
   },
   "source": [
    "Adding inference rules to the Corese engine should change the results of the query by adding new triples."
   ]
  },
  {
   "cell_type": "code",
   "execution_count": 7,
   "metadata": {
    "colab": {
     "base_uri": "https://localhost:8080/"
    },
    "id": "op-vR8rge64q",
    "outputId": "4eb133de-a58c-43e0-9d90-04722db0f6b3"
   },
   "outputs": [
    {
     "name": "stdout",
     "output_type": "stream",
     "text": [
      "Graph size:  33\n"
     ]
    }
   ],
   "source": [
    "corese.loadRuleEngine(graph, profile=corese.RuleEngine.Profile.RDFS)\n",
    "print(\"Graph size: \", graph.graphSize())"
   ]
  },
  {
   "cell_type": "markdown",
   "metadata": {
    "id": "0ILJiiQJe64q"
   },
   "source": [
    "Let's see what was added."
   ]
  },
  {
   "cell_type": "code",
   "execution_count": 8,
   "metadata": {
    "colab": {
     "base_uri": "https://localhost:8080/"
    },
    "id": "X_rFryste64q",
    "outputId": "b1f67902-a052-4075-f4d8-66ce54d0fefa"
   },
   "outputs": [
    {
     "name": "stdout",
     "output_type": "stream",
     "text": [
      "                                      s                           type\n",
      "0   http://example.com/Please_Please_Me       http://example.com/Album\n",
      "1          http://example.com/McCartney       http://example.com/Album\n",
      "2            http://example.com/Imagine       http://example.com/Album\n",
      "3        http://example.com/The_Beatles        http://example.com/Band\n",
      "4        http://example.com/John_Lennon      http://example.com/Person\n",
      "5     http://example.com/Paul_McCartney      http://example.com/Person\n",
      "6        http://example.com/Ringo_Starr      http://example.com/Person\n",
      "7    http://example.com/George_Harrison      http://example.com/Person\n",
      "8        http://example.com/John_Lennon  http://example.com/SoloArtist\n",
      "9     http://example.com/Paul_McCartney  http://example.com/SoloArtist\n",
      "10       http://example.com/Ringo_Starr  http://example.com/SoloArtist\n",
      "11   http://example.com/George_Harrison  http://example.com/SoloArtist\n",
      "12        http://example.com/Love_Me_Do        http://example.com/Song\n",
      "Graph size:  33\n"
     ]
    }
   ],
   "source": [
    "query = \"select * where {?s a ?type} order by ?type\"\n",
    "print(corese.sparqlSelect(graph, query=query))\n",
    "print(\"Graph size: \", graph.graphSize())"
   ]
  },
  {
   "cell_type": "markdown",
   "metadata": {
    "id": "yvIlPQVue64r"
   },
   "source": [
    "The inference was that the solo artist is also a person although it was not explicitly stated in the data."
   ]
  },
  {
   "cell_type": "markdown",
   "metadata": {
    "id": "enpoRBHve64r"
   },
   "source": [
    "#### Run CONSTRUCT query"
   ]
  },
  {
   "cell_type": "code",
   "execution_count": 9,
   "metadata": {
    "colab": {
     "base_uri": "https://localhost:8080/"
    },
    "id": "9Ii81qu1e64r",
    "outputId": "c2e57c03-f591-433f-ebfb-397f49a2519e"
   },
   "outputs": [
    {
     "name": "stdout",
     "output_type": "stream",
     "text": [
      "<?xml version=\"1.0\"?>\n",
      "<rdf:RDF\n",
      "  xmlns:ex='http://example.com/'\n",
      "  xmlns:rdf='http://www.w3.org/1999/02/22-rdf-syntax-ns#'>\n",
      "\n",
      "  <ex:BandMember rdf:about='http://example.com/Ringo_Starr'>\n",
      "  </ex:BandMember>\n",
      "\n",
      "  <ex:BandMember rdf:about='http://example.com/John_Lennon'>\n",
      "  </ex:BandMember>\n",
      "\n",
      "  <ex:BandMember rdf:about='http://example.com/George_Harrison'>\n",
      "  </ex:BandMember>\n",
      "\n",
      "  <ex:BandMember rdf:about='http://example.com/Paul_McCartney'>\n",
      "  </ex:BandMember>\n",
      "\n",
      "</rdf:RDF>\n"
     ]
    }
   ],
   "source": [
    "prefixes = '@prefix ex: <http://example.com/>'\n",
    "contruct = '''CONSTRUCT {?A_Beatle a ex:BandMember }\n",
    "              WHERE { ex:The_Beatles ex:member ?A_Beatle}'''\n",
    "\n",
    "results = corese.sparqlConstruct(graph, prefixes=prefixes, query=contruct)\n",
    "\n",
    "print(results)"
   ]
  },
  {
   "cell_type": "markdown",
   "metadata": {
    "id": "0PPF87F2e64r"
   },
   "source": [
    "By default, the CONSTRUCT query returns the RDF/XML format. For more concise format convert the results to Turtle."
   ]
  },
  {
   "cell_type": "code",
   "execution_count": 10,
   "metadata": {
    "colab": {
     "base_uri": "https://localhost:8080/"
    },
    "id": "TULma6_Ce64r",
    "outputId": "88cd769a-f09f-49d4-f4cd-a0d031b73d60"
   },
   "outputs": [
    {
     "name": "stdout",
     "output_type": "stream",
     "text": [
      "\n",
      "<http://example.com/George_Harrison> a <http://example.com/BandMember> .\n",
      "\n",
      "<http://example.com/John_Lennon> a <http://example.com/BandMember> .\n",
      "\n",
      "<http://example.com/Paul_McCartney> a <http://example.com/BandMember> .\n",
      "\n",
      "<http://example.com/Ringo_Starr> a <http://example.com/BandMember> .\n",
      "\n",
      "\n"
     ]
    }
   ],
   "source": [
    "ttl = corese.toTurtle(results)\n",
    "\n",
    "print(ttl)"
   ]
  },
  {
   "cell_type": "markdown",
   "metadata": {
    "id": "znZOJMz1e64r"
   },
   "source": [
    "#### Run SHACL form validation"
   ]
  },
  {
   "cell_type": "markdown",
   "metadata": {
    "id": "liQCAMpFe64s"
   },
   "source": [
    "In the example below, we will use the the SHACL shape file that validates that the *beatles* graph follows the rules:\n",
    "\n",
    "- A band has a name and at least on member who is also a Solo Artist\n",
    "- An album has one name, one date and one artist associated with it\n",
    "- A song has one name, one duration and at least writer and at least one performer associated with it\n",
    "\n",
    "The validation should fail because the *beatles* graph does not contain the required information.    "
   ]
  },
  {
   "cell_type": "code",
   "execution_count": 12,
   "metadata": {
    "colab": {
     "base_uri": "https://localhost:8080/"
    },
    "id": "MOsEDfB3e64s",
    "outputId": "1c2e0577-c583-41a2-f4da-50633daa5bee"
   },
   "outputs": [
    {
     "name": "stdout",
     "output_type": "stream",
     "text": [
      "PREFIX sh: <http://www.w3.org/ns/shacl#>\n",
      "PREFIX xsd: <http://www.w3.org/2001/XMLSchema#>\n",
      "PREFIX ex: <http://example.com/>\n",
      "\n",
      "# Shape for Bands\n",
      "ex:BandShape a sh:NodeShape ;\n",
      "    sh:targetClass ex:Band ;\n",
      "    sh:property [\n",
      "        sh:path ex:name ;\n",
      "        sh:datatype xsd:string ;\n",
      "        sh:minCount 1 ;\n",
      "        sh:maxCount 1 ;\n",
      "    ] ;\n",
      "    sh:property [\n",
      "        sh:path ex:member ;\n",
      "        sh:class ex:SoloArtist ;\n",
      "        sh:minCount 1 ;\n",
      "    ] .\n",
      "\n",
      "# Shape for Solo Artists\n",
      "ex:SoloArtistShape a sh:NodeShape ;\n",
      "    sh:targetClass ex:SoloArtist .\n",
      "\n",
      "# Shape for Albums\n",
      "ex:AlbumShape a sh:NodeShape ;\n",
      "    sh:targetClass ex:Album ;\n",
      "    sh:property [\n",
      "        sh:path ex:name ;\n",
      "        sh:datatype xsd:string ;\n",
      "        sh:minCount 1 ;\n",
      "        sh:maxCount 1 ;\n",
      "    ] ;\n",
      "    sh:property [\n",
      "        sh:path ex:date ;\n",
      "        sh:datatype xsd:date ;\n",
      "        sh:minCount 1 ;\n",
      "        sh:maxCount 1 ;\n",
      "    ] ;\n",
      "    sh:property [\n",
      "        sh:path ex:artist ;\n",
      "        sh:nodeKind sh:IRI ;\n",
      "        sh:minCount 1 ;\n",
      "        sh:maxCount 1 ;\n",
      "    ] .\n",
      "\n",
      "# Shape for Songs\n",
      "ex:SongShape a sh:NodeShape ;\n",
      "    sh:targetClass ex:Song ;\n",
      "    sh:property [\n",
      "        sh:path ex:name ;\n",
      "        sh:datatype xsd:string ;\n",
      "        sh:minCount 1 ;\n",
      "        sh:maxCount 1 ;\n",
      "    ] ;\n",
      "    sh:property [\n",
      "        sh:path ex:length ;\n",
      "        sh:datatype xsd:integer ;\n",
      "        sh:minCount 1 ;\n",
      "        sh:maxCount 1 ;\n",
      "    ] ;\n",
      "        sh:property [\n",
      "        sh:path ex:performer ;\n",
      "        sh:nodeKind sh:IRI ;\n",
      "        sh:minCount 1 ;\n",
      "    ] ;\n",
      "    sh:property [\n",
      "        sh:path ex:writer ;\n",
      "        sh:nodeKind sh:IRI ;\n",
      "        sh:minCount 1 ;\n",
      "    ] .\n",
      "\n"
     ]
    }
   ],
   "source": [
    "data_shape_path = os.path.abspath('./data/beatles-validator.ttl')\n",
    "\n",
    "with open(data_shape_path, 'r') as file:\n",
    "    data_shape = file.read()\n",
    "    print(data_shape)"
   ]
  },
  {
   "cell_type": "code",
   "execution_count": 13,
   "metadata": {
    "colab": {
     "base_uri": "https://localhost:8080/"
    },
    "id": "Oa-7_Q_qe64s",
    "outputId": "d6764304-7a25-4274-d010-593cbbbbd5a2"
   },
   "outputs": [
    {
     "name": "stdout",
     "output_type": "stream",
     "text": [
      "@prefix xsh: <http://www.w3.org/ns/shacl#> .\n",
      "@prefix sh: <http://www.w3.org/ns/shacl#> .\n",
      "\n",
      "<urn:uuid:66d7b5ea-0065-4f84-b0e4-d65ba0b16a11> a sh:ValidationResult ;\n",
      "  sh:focusNode <http://example.com/Love_Me_Do> ;\n",
      "  sh:resultMessage \"Fail at: [sh:minCount 1 ;\\n  sh:nodeKind sh:IRI ;\\n  sh:path <http://example.com/performer>]\" ;\n",
      "  sh:resultPath <http://example.com/performer> ;\n",
      "  sh:resultSeverity sh:Violation ;\n",
      "  sh:sourceConstraintComponent sh:MinCountConstraintComponent ;\n",
      "  sh:sourceShape _:b7 ;\n",
      "  sh:value 0 .\n",
      "\n",
      "[a sh:ValidationReport ;\n",
      "  sh:conforms false ;\n",
      "  sh:result <urn:uuid:66d7b5ea-0065-4f84-b0e4-d65ba0b16a11>] .\n",
      "\n",
      "\n"
     ]
    }
   ],
   "source": [
    "prefixes = '@prefix ex: <http://example.com/>'\n",
    "report = corese.shaclValidate(graph, shacl_shape_ttl=data_shape_path, prefixes=prefixes)\n",
    "\n",
    "print(report)"
   ]
  },
  {
   "cell_type": "markdown",
   "metadata": {
    "id": "ErOwy8yMe64s"
   },
   "source": [
    "The SHACL validation report is verbose and can be reshaped into a DataFrame for readability."
   ]
  },
  {
   "cell_type": "code",
   "execution_count": 14,
   "metadata": {
    "colab": {
     "base_uri": "https://localhost:8080/",
     "height": 184
    },
    "id": "K4_fQT0Ye64s",
    "outputId": "db9698e5-9f18-4714-ade4-93c6218b6047"
   },
   "outputs": [
    {
     "data": {
      "application/vnd.google.colaboratory.intrinsic+json": {
       "summary": "{\n  \"name\": \"report_dataframe\",\n  \"rows\": 1,\n  \"fields\": [\n    {\n      \"column\": \"o\",\n      \"properties\": {\n        \"dtype\": \"string\",\n        \"num_unique_values\": 1,\n        \"samples\": [\n          \"urn:uuid:66d7b5ea-0065-4f84-b0e4-d65ba0b16a11\"\n        ],\n        \"semantic_type\": \"\",\n        \"description\": \"\"\n      }\n    },\n    {\n      \"column\": \"type\",\n      \"properties\": {\n        \"dtype\": \"string\",\n        \"num_unique_values\": 1,\n        \"samples\": [\n          \"http://www.w3.org/ns/shacl#ValidationResult\"\n        ],\n        \"semantic_type\": \"\",\n        \"description\": \"\"\n      }\n    },\n    {\n      \"column\": \"focusNode\",\n      \"properties\": {\n        \"dtype\": \"string\",\n        \"num_unique_values\": 1,\n        \"samples\": [\n          \"http://example.com/Love_Me_Do\"\n        ],\n        \"semantic_type\": \"\",\n        \"description\": \"\"\n      }\n    },\n    {\n      \"column\": \"resultMessage\",\n      \"properties\": {\n        \"dtype\": \"string\",\n        \"num_unique_values\": 1,\n        \"samples\": [\n          \"Fail at: [sh:minCount 1 ;\\n  sh:nodeKind sh:IRI ;\\n  sh:path <http://example.com/performer>]\"\n        ],\n        \"semantic_type\": \"\",\n        \"description\": \"\"\n      }\n    },\n    {\n      \"column\": \"resultPath\",\n      \"properties\": {\n        \"dtype\": \"string\",\n        \"num_unique_values\": 1,\n        \"samples\": [\n          \"http://example.com/performer\"\n        ],\n        \"semantic_type\": \"\",\n        \"description\": \"\"\n      }\n    },\n    {\n      \"column\": \"resultSeverity\",\n      \"properties\": {\n        \"dtype\": \"string\",\n        \"num_unique_values\": 1,\n        \"samples\": [\n          \"http://www.w3.org/ns/shacl#Violation\"\n        ],\n        \"semantic_type\": \"\",\n        \"description\": \"\"\n      }\n    },\n    {\n      \"column\": \"sourceConstraintComponent\",\n      \"properties\": {\n        \"dtype\": \"string\",\n        \"num_unique_values\": 1,\n        \"samples\": [\n          \"http://www.w3.org/ns/shacl#MinCountConstraintComponent\"\n        ],\n        \"semantic_type\": \"\",\n        \"description\": \"\"\n      }\n    },\n    {\n      \"column\": \"sourceShape\",\n      \"properties\": {\n        \"dtype\": \"string\",\n        \"num_unique_values\": 1,\n        \"samples\": [\n          \"_:b9\"\n        ],\n        \"semantic_type\": \"\",\n        \"description\": \"\"\n      }\n    },\n    {\n      \"column\": \"value\",\n      \"properties\": {\n        \"dtype\": \"string\",\n        \"num_unique_values\": 1,\n        \"samples\": [\n          \"0\"\n        ],\n        \"semantic_type\": \"\",\n        \"description\": \"\"\n      }\n    }\n  ]\n}",
       "type": "dataframe",
       "variable_name": "report_dataframe"
      },
      "text/html": [
       "\n",
       "  <div id=\"df-0b56a05d-cd73-4eb1-bda8-5ee3b5c8f164\" class=\"colab-df-container\">\n",
       "    <div>\n",
       "<style scoped>\n",
       "    .dataframe tbody tr th:only-of-type {\n",
       "        vertical-align: middle;\n",
       "    }\n",
       "\n",
       "    .dataframe tbody tr th {\n",
       "        vertical-align: top;\n",
       "    }\n",
       "\n",
       "    .dataframe thead th {\n",
       "        text-align: right;\n",
       "    }\n",
       "</style>\n",
       "<table border=\"1\" class=\"dataframe\">\n",
       "  <thead>\n",
       "    <tr style=\"text-align: right;\">\n",
       "      <th></th>\n",
       "      <th>type</th>\n",
       "      <th>focusNode</th>\n",
       "      <th>resultMessage</th>\n",
       "      <th>resultPath</th>\n",
       "      <th>resultSeverity</th>\n",
       "      <th>sourceConstraintComponent</th>\n",
       "      <th>sourceShape</th>\n",
       "      <th>value</th>\n",
       "    </tr>\n",
       "    <tr>\n",
       "      <th>o</th>\n",
       "      <th></th>\n",
       "      <th></th>\n",
       "      <th></th>\n",
       "      <th></th>\n",
       "      <th></th>\n",
       "      <th></th>\n",
       "      <th></th>\n",
       "      <th></th>\n",
       "    </tr>\n",
       "  </thead>\n",
       "  <tbody>\n",
       "    <tr>\n",
       "      <th>urn:uuid:66d7b5ea-0065-4f84-b0e4-d65ba0b16a11</th>\n",
       "      <td>http://www.w3.org/ns/shacl#ValidationResult</td>\n",
       "      <td>http://example.com/Love_Me_Do</td>\n",
       "      <td>Fail at: [sh:minCount 1 ;\n",
       "  sh:nodeKind sh:IRI...</td>\n",
       "      <td>http://example.com/performer</td>\n",
       "      <td>http://www.w3.org/ns/shacl#Violation</td>\n",
       "      <td>http://www.w3.org/ns/shacl#MinCountConstraintC...</td>\n",
       "      <td>_:b9</td>\n",
       "      <td>0</td>\n",
       "    </tr>\n",
       "  </tbody>\n",
       "</table>\n",
       "</div>\n",
       "    <div class=\"colab-df-buttons\">\n",
       "\n",
       "  <div class=\"colab-df-container\">\n",
       "    <button class=\"colab-df-convert\" onclick=\"convertToInteractive('df-0b56a05d-cd73-4eb1-bda8-5ee3b5c8f164')\"\n",
       "            title=\"Convert this dataframe to an interactive table.\"\n",
       "            style=\"display:none;\">\n",
       "\n",
       "  <svg xmlns=\"http://www.w3.org/2000/svg\" height=\"24px\" viewBox=\"0 -960 960 960\">\n",
       "    <path d=\"M120-120v-720h720v720H120Zm60-500h600v-160H180v160Zm220 220h160v-160H400v160Zm0 220h160v-160H400v160ZM180-400h160v-160H180v160Zm440 0h160v-160H620v160ZM180-180h160v-160H180v160Zm440 0h160v-160H620v160Z\"/>\n",
       "  </svg>\n",
       "    </button>\n",
       "\n",
       "  <style>\n",
       "    .colab-df-container {\n",
       "      display:flex;\n",
       "      gap: 12px;\n",
       "    }\n",
       "\n",
       "    .colab-df-convert {\n",
       "      background-color: #E8F0FE;\n",
       "      border: none;\n",
       "      border-radius: 50%;\n",
       "      cursor: pointer;\n",
       "      display: none;\n",
       "      fill: #1967D2;\n",
       "      height: 32px;\n",
       "      padding: 0 0 0 0;\n",
       "      width: 32px;\n",
       "    }\n",
       "\n",
       "    .colab-df-convert:hover {\n",
       "      background-color: #E2EBFA;\n",
       "      box-shadow: 0px 1px 2px rgba(60, 64, 67, 0.3), 0px 1px 3px 1px rgba(60, 64, 67, 0.15);\n",
       "      fill: #174EA6;\n",
       "    }\n",
       "\n",
       "    .colab-df-buttons div {\n",
       "      margin-bottom: 4px;\n",
       "    }\n",
       "\n",
       "    [theme=dark] .colab-df-convert {\n",
       "      background-color: #3B4455;\n",
       "      fill: #D2E3FC;\n",
       "    }\n",
       "\n",
       "    [theme=dark] .colab-df-convert:hover {\n",
       "      background-color: #434B5C;\n",
       "      box-shadow: 0px 1px 3px 1px rgba(0, 0, 0, 0.15);\n",
       "      filter: drop-shadow(0px 1px 2px rgba(0, 0, 0, 0.3));\n",
       "      fill: #FFFFFF;\n",
       "    }\n",
       "  </style>\n",
       "\n",
       "    <script>\n",
       "      const buttonEl =\n",
       "        document.querySelector('#df-0b56a05d-cd73-4eb1-bda8-5ee3b5c8f164 button.colab-df-convert');\n",
       "      buttonEl.style.display =\n",
       "        google.colab.kernel.accessAllowed ? 'block' : 'none';\n",
       "\n",
       "      async function convertToInteractive(key) {\n",
       "        const element = document.querySelector('#df-0b56a05d-cd73-4eb1-bda8-5ee3b5c8f164');\n",
       "        const dataTable =\n",
       "          await google.colab.kernel.invokeFunction('convertToInteractive',\n",
       "                                                    [key], {});\n",
       "        if (!dataTable) return;\n",
       "\n",
       "        const docLinkHtml = 'Like what you see? Visit the ' +\n",
       "          '<a target=\"_blank\" href=https://colab.research.google.com/notebooks/data_table.ipynb>data table notebook</a>'\n",
       "          + ' to learn more about interactive tables.';\n",
       "        element.innerHTML = '';\n",
       "        dataTable['output_type'] = 'display_data';\n",
       "        await google.colab.output.renderOutput(dataTable, element);\n",
       "        const docLink = document.createElement('div');\n",
       "        docLink.innerHTML = docLinkHtml;\n",
       "        element.appendChild(docLink);\n",
       "      }\n",
       "    </script>\n",
       "  </div>\n",
       "\n",
       "\n",
       "  <div id=\"id_1ae0ba18-28df-40fd-8caa-804d0ffc0ace\">\n",
       "    <style>\n",
       "      .colab-df-generate {\n",
       "        background-color: #E8F0FE;\n",
       "        border: none;\n",
       "        border-radius: 50%;\n",
       "        cursor: pointer;\n",
       "        display: none;\n",
       "        fill: #1967D2;\n",
       "        height: 32px;\n",
       "        padding: 0 0 0 0;\n",
       "        width: 32px;\n",
       "      }\n",
       "\n",
       "      .colab-df-generate:hover {\n",
       "        background-color: #E2EBFA;\n",
       "        box-shadow: 0px 1px 2px rgba(60, 64, 67, 0.3), 0px 1px 3px 1px rgba(60, 64, 67, 0.15);\n",
       "        fill: #174EA6;\n",
       "      }\n",
       "\n",
       "      [theme=dark] .colab-df-generate {\n",
       "        background-color: #3B4455;\n",
       "        fill: #D2E3FC;\n",
       "      }\n",
       "\n",
       "      [theme=dark] .colab-df-generate:hover {\n",
       "        background-color: #434B5C;\n",
       "        box-shadow: 0px 1px 3px 1px rgba(0, 0, 0, 0.15);\n",
       "        filter: drop-shadow(0px 1px 2px rgba(0, 0, 0, 0.3));\n",
       "        fill: #FFFFFF;\n",
       "      }\n",
       "    </style>\n",
       "    <button class=\"colab-df-generate\" onclick=\"generateWithVariable('report_dataframe')\"\n",
       "            title=\"Generate code using this dataframe.\"\n",
       "            style=\"display:none;\">\n",
       "\n",
       "  <svg xmlns=\"http://www.w3.org/2000/svg\" height=\"24px\"viewBox=\"0 0 24 24\"\n",
       "       width=\"24px\">\n",
       "    <path d=\"M7,19H8.4L18.45,9,17,7.55,7,17.6ZM5,21V16.75L18.45,3.32a2,2,0,0,1,2.83,0l1.4,1.43a1.91,1.91,0,0,1,.58,1.4,1.91,1.91,0,0,1-.58,1.4L9.25,21ZM18.45,9,17,7.55Zm-12,3A5.31,5.31,0,0,0,4.9,8.1,5.31,5.31,0,0,0,1,6.5,5.31,5.31,0,0,0,4.9,4.9,5.31,5.31,0,0,0,6.5,1,5.31,5.31,0,0,0,8.1,4.9,5.31,5.31,0,0,0,12,6.5,5.46,5.46,0,0,0,6.5,12Z\"/>\n",
       "  </svg>\n",
       "    </button>\n",
       "    <script>\n",
       "      (() => {\n",
       "      const buttonEl =\n",
       "        document.querySelector('#id_1ae0ba18-28df-40fd-8caa-804d0ffc0ace button.colab-df-generate');\n",
       "      buttonEl.style.display =\n",
       "        google.colab.kernel.accessAllowed ? 'block' : 'none';\n",
       "\n",
       "      buttonEl.onclick = () => {\n",
       "        google.colab.notebook.generateWithVariable('report_dataframe');\n",
       "      }\n",
       "      })();\n",
       "    </script>\n",
       "  </div>\n",
       "\n",
       "    </div>\n",
       "  </div>\n"
      ],
      "text/plain": [
       "                                                                                      type  \\\n",
       "o                                                                                            \n",
       "urn:uuid:66d7b5ea-0065-4f84-b0e4-d65ba0b16a11  http://www.w3.org/ns/shacl#ValidationResult   \n",
       "\n",
       "                                                                   focusNode  \\\n",
       "o                                                                              \n",
       "urn:uuid:66d7b5ea-0065-4f84-b0e4-d65ba0b16a11  http://example.com/Love_Me_Do   \n",
       "\n",
       "                                                                                   resultMessage  \\\n",
       "o                                                                                                  \n",
       "urn:uuid:66d7b5ea-0065-4f84-b0e4-d65ba0b16a11  Fail at: [sh:minCount 1 ;\n",
       "  sh:nodeKind sh:IRI...   \n",
       "\n",
       "                                                                 resultPath  \\\n",
       "o                                                                             \n",
       "urn:uuid:66d7b5ea-0065-4f84-b0e4-d65ba0b16a11  http://example.com/performer   \n",
       "\n",
       "                                                                     resultSeverity  \\\n",
       "o                                                                                     \n",
       "urn:uuid:66d7b5ea-0065-4f84-b0e4-d65ba0b16a11  http://www.w3.org/ns/shacl#Violation   \n",
       "\n",
       "                                                                       sourceConstraintComponent  \\\n",
       "o                                                                                                  \n",
       "urn:uuid:66d7b5ea-0065-4f84-b0e4-d65ba0b16a11  http://www.w3.org/ns/shacl#MinCountConstraintC...   \n",
       "\n",
       "                                              sourceShape value  \n",
       "o                                                                \n",
       "urn:uuid:66d7b5ea-0065-4f84-b0e4-d65ba0b16a11        _:b9     0  "
      ]
     },
     "execution_count": 14,
     "metadata": {},
     "output_type": "execute_result"
    }
   ],
   "source": [
    "report_dataframe = corese.shaclReportToDataFrame(report)\n",
    "\n",
    "report_dataframe"
   ]
  },
  {
   "cell_type": "markdown",
   "metadata": {
    "id": "d6xlzpURe64t"
   },
   "source": [
    "The report tells us that for the song *Love Me Do* a performer is not specified."
   ]
  },
  {
   "cell_type": "markdown",
   "metadata": {
    "id": "Nt-rvV1Pe64t"
   },
   "source": [
    "## Low-level API"
   ]
  },
  {
   "cell_type": "markdown",
   "metadata": {
    "id": "NgjIq4y-e64t"
   },
   "source": [
    "### Adding triples manually to the graph."
   ]
  },
  {
   "cell_type": "code",
   "execution_count": 15,
   "metadata": {
    "colab": {
     "base_uri": "https://localhost:8080/"
    },
    "id": "egIhirIce64t",
    "outputId": "5a78aacf-06fd-4968-ad8d-9a3f7ed96147"
   },
   "outputs": [
    {
     "data": {
      "text/plain": [
       "JavaObject id=o37"
      ]
     },
     "execution_count": 15,
     "metadata": {},
     "output_type": "execute_result"
    }
   ],
   "source": [
    "# Namespace\n",
    "ex = \"http://example.com/\"\n",
    "\n",
    "# Get the graph from either Graph or DataManager objects\n",
    "graph = graph.getGraph()\n",
    "\n",
    "# Create and add statements: Help! is an album\n",
    "new_album_IRI = graph.addResource(ex + \"Help\")\n",
    "rdf_Type_Property = graph.addProperty(corese.Namespaces.RDF + 'type')\n",
    "album_type_IRI = graph.addResource(ex + \"Album\")\n",
    "\n",
    "graph.addEdge(new_album_IRI, rdf_Type_Property, album_type_IRI)\n"
   ]
  },
  {
   "cell_type": "markdown",
   "metadata": {
    "id": "BqmK5N5Xe64t"
   },
   "source": [
    "Let's see what was added."
   ]
  },
  {
   "cell_type": "code",
   "execution_count": null,
   "metadata": {
    "colab": {
     "base_uri": "https://localhost:8080/"
    },
    "id": "2l26SHjWe64u",
    "outputId": "87add254-e354-427b-b614-4863a0be45d4"
   },
   "outputs": [
    {
     "name": "stdout",
     "output_type": "stream",
     "text": [
      "01 ?album = <http://example.com/Please_Please_Me>; \n",
      "02 ?album = <http://example.com/McCartney>; \n",
      "03 ?album = <http://example.com/Imagine>; \n",
      "04 ?album = <http://example.com/Help>; \n",
      "\n"
     ]
    }
   ],
   "source": [
    "query = f'''@prefix ex: <{ex}>\n",
    "            SELECT *\n",
    "            where {{?album a ex:Album }}'''\n",
    "\n",
    "exec = corese.QueryProcess.create(graph)\n",
    "\n",
    "results = exec.query(query)\n",
    "\n",
    "print(results)\n"
   ]
  },
  {
   "cell_type": "markdown",
   "metadata": {
    "id": "6IwJDXc4e64u"
   },
   "source": [
    "The new triple (album *Help*) was added to the graph."
   ]
  },
  {
   "cell_type": "markdown",
   "metadata": {
    "id": "o41J9o5We64u"
   },
   "source": [
    "Wer can add some more detailes for the album *Help!* and see what was added."
   ]
  },
  {
   "cell_type": "code",
   "execution_count": 16,
   "metadata": {
    "colab": {
     "base_uri": "https://localhost:8080/"
    },
    "id": "gSZwJp33e64u",
    "outputId": "f2ab11b3-a89e-4d38-b5d7-0c5b40d6f26f"
   },
   "outputs": [
    {
     "data": {
      "text/plain": [
       "JavaObject id=o46"
      ]
     },
     "execution_count": 16,
     "metadata": {},
     "output_type": "execute_result"
    }
   ],
   "source": [
    "# Create and add statement: The name of the album is actually Help!\n",
    "name_property_IRI = graph.addProperty(ex + \"name\")\n",
    "name_literal = graph.addLiteral(\"Help!\")\n",
    "\n",
    "graph.addEdge(new_album_IRI, name_property_IRI, name_literal)\n",
    "\n",
    "# Create and add statement: The new album was released in 1965\n",
    "xsd = \"http://www.w3.org/2001/XMLSchema#\"\n",
    "release_property_IRI = graph.addProperty(ex + \"date\")\n",
    "release_literal = graph.addLiteral(\"1965\", xsd + 'date')\n",
    "\n",
    "graph.addEdge(new_album_IRI, release_property_IRI, release_literal)\n",
    "\n",
    "\n",
    "# Create and add statement: The Beatles is the creator of the album Help\n",
    "artist_property_IRI = graph.addProperty(ex + \"artist\")\n",
    "artist_IRI = graph.addLiteral(ex + \"The_Beatles\")\n",
    "graph.addEdge(new_album_IRI, artist_property_IRI, artist_IRI)"
   ]
  },
  {
   "cell_type": "code",
   "execution_count": 17,
   "metadata": {
    "colab": {
     "base_uri": "https://localhost:8080/"
    },
    "id": "CTWzyXGUe64u",
    "outputId": "7e2a01bd-3884-4694-a3c5-005a56fd2b60"
   },
   "outputs": [
    {
     "name": "stdout",
     "output_type": "stream",
     "text": [
      "@prefix xsd: <http://www.w3.org/2001/XMLSchema#> .\n",
      "@prefix ex: <http://example.com/> .\n",
      "\n",
      "ex:Help ex:artist \"http://example.com/The_Beatles\" ;\n",
      "  ex:date \"1965\"^^xsd:date ;\n",
      "  ex:name \"Help!\" ;\n",
      "  a ex:Album .\n",
      "\n",
      "\n"
     ]
    }
   ],
   "source": [
    "query = f'''@prefix ex: <{ex}>\n",
    "            CONSTRUCT {{ ?album ?p ?o }}\n",
    "            WHERE {{\n",
    "                VALUES ?album {{ ex:Help }}\n",
    "                ?album ?p ?o}} '''\n",
    "\n",
    "exec = corese.QueryProcess.create(graph)\n",
    "\n",
    "results = exec.query(query)\n",
    "\n",
    "results_ttl = corese.ResultFormat.create(results, corese.ResultFormat.TURTLE_FORMAT)\n",
    "\n",
    "print(results_ttl)"
   ]
  }
 ],
 "metadata": {
  "colab": {
   "provenance": [],
   "toc_visible": true
  },
  "kernelspec": {
   "display_name": "Python 3",
   "language": "python",
   "name": "python3"
  },
  "language_info": {
   "codemirror_mode": {
    "name": "ipython",
    "version": 3
   },
   "file_extension": ".py",
   "mimetype": "text/x-python",
   "name": "python",
   "nbconvert_exporter": "python",
   "pygments_lexer": "ipython3",
   "version": "3.10.14"
  }
 },
 "nbformat": 4,
 "nbformat_minor": 0
}
